{
 "cells": [
  {
   "cell_type": "code",
   "execution_count": 1,
   "id": "26c96319",
   "metadata": {},
   "outputs": [
    {
     "name": "stdout",
     "output_type": "stream",
     "text": [
      "helloshuvo\n"
     ]
    }
   ],
   "source": [
    "def classs():\n",
    "    \"\"\" this function take the name as input and great his/her.  \"\"\"\n",
    "    name= input(\"Enter name:\")\n",
    "    print(\"hello\" +name)\n",
    "classs()\n",
    "    "
   ]
  },
  {
   "cell_type": "code",
   "execution_count": null,
   "id": "59de932b",
   "metadata": {},
   "outputs": [],
   "source": []
  },
  {
   "cell_type": "code",
   "execution_count": 3,
   "id": "7a0adba0",
   "metadata": {},
   "outputs": [
    {
     "name": "stdout",
     "output_type": "stream",
     "text": [
      "jaul\n"
     ]
    }
   ],
   "source": [
    "def user_input():\n",
    "    name= input(\"enter user age:\")\n",
    "    print(name)\n",
    "user_input()"
   ]
  },
  {
   "cell_type": "code",
   "execution_count": 7,
   "id": "1b97f6af",
   "metadata": {},
   "outputs": [
    {
     "name": "stdout",
     "output_type": "stream",
     "text": [
      "9\n"
     ]
    },
    {
     "data": {
      "text/plain": [
       "'bolt'"
      ]
     },
     "execution_count": 7,
     "metadata": {},
     "output_type": "execute_result"
    }
   ],
   "source": [
    "def game(x,y):\n",
    "    \n",
    "    name= x+y\n",
    "    print(name)\n",
    "    return \"bolt\"\n",
    "game(4,5)"
   ]
  },
  {
   "cell_type": "code",
   "execution_count": 4,
   "id": "cdd7989b",
   "metadata": {},
   "outputs": [
    {
     "name": "stdout",
     "output_type": "stream",
     "text": [
      "x is not 4 nor 5\n"
     ]
    }
   ],
   "source": [
    "x= int(input(\"enter num:\"))\n",
    "\n",
    "if(x==5):\n",
    "    \n",
    "    print(\"x is 5\")\n",
    "elif(x==4):\n",
    "    print(\"x is 4\")\n",
    "else:\n",
    "    print(\"x is not 4 nor 5\")"
   ]
  },
  {
   "cell_type": "code",
   "execution_count": 6,
   "id": "2ae1d779",
   "metadata": {},
   "outputs": [
    {
     "name": "stdout",
     "output_type": "stream",
     "text": [
      "x is not 5\n"
     ]
    }
   ],
   "source": [
    "if x!=5:\n",
    "    print(\"x is not 5\")"
   ]
  },
  {
   "cell_type": "code",
   "execution_count": 9,
   "id": "a217aa4f",
   "metadata": {},
   "outputs": [
    {
     "name": "stdout",
     "output_type": "stream",
     "text": [
      "your num is not correct\n"
     ]
    }
   ],
   "source": [
    "num=9\n",
    "guess= int(input(\"enter your guess num:\"))\n",
    "if(num==guess):\n",
    "    print(\"your num is correct\")\n",
    "else:\n",
    "    print(\"your num is not correct\")"
   ]
  },
  {
   "cell_type": "code",
   "execution_count": 13,
   "id": "d84dc7bf",
   "metadata": {},
   "outputs": [
    {
     "name": "stdout",
     "output_type": "stream",
     "text": [
      "invalid\n"
     ]
    }
   ],
   "source": [
    "\n",
    "user= input(\"enter -yes or no\")\n",
    "user= user.lower()\n",
    "if(user==\"yes\"):\n",
    "    print(\"you have discount\")\n",
    "elif(user==\"no\"):\n",
    "    print(\"no you have  not\")\n",
    "else:\n",
    "    print(\"invalid\")"
   ]
  },
  {
   "cell_type": "code",
   "execution_count": 15,
   "id": "09c803f3",
   "metadata": {},
   "outputs": [
    {
     "name": "stdout",
     "output_type": "stream",
     "text": [
      "100 90 80 70 60 50 40 30 20 10 "
     ]
    }
   ],
   "source": [
    "for i in range(100,1,-5):\n",
    "    if(i%2==0):\n",
    "        print(i, end= \" \")\n",
    "   "
   ]
  },
  {
   "cell_type": "code",
   "execution_count": 22,
   "id": "784e92fb",
   "metadata": {},
   "outputs": [
    {
     "name": "stdout",
     "output_type": "stream",
     "text": [
      "5\n",
      "7\n"
     ]
    }
   ],
   "source": [
    "user= input(\"enter your name:\")\n",
    "\n",
    "user = user.lower()\n",
    "\n",
    "cntVowel = user.count('a') + user.count('e') + user.count('i') + user.count('o') + user.count('u')\n",
    "cntConsonent = len(user) - cntVowel - user.count(' ')\n",
    "\n",
    "print(cntVowel)\n",
    "print(cntConsonent)\n",
    "\n"
   ]
  },
  {
   "cell_type": "code",
   "execution_count": null,
   "id": "2c86fded",
   "metadata": {},
   "outputs": [],
   "source": [
    "transfernow.net"
   ]
  },
  {
   "cell_type": "code",
   "execution_count": null,
   "id": "ed92f5d1",
   "metadata": {},
   "outputs": [],
   "source": [
    "from random import randint\n",
    "num= randint(1,20)\n",
    "while(True):\n",
    "        user= int(input(\"enter guessing num:\"))\n",
    "\n",
    "\n",
    "        if user==num:\n",
    "                print(\"num is match\")\n",
    "                break\n",
    "        elif(user<num):\n",
    "                print(\"do not match, it is low\")\n",
    "        elif(user>num):\n",
    "                print(\"don't match, it is high\")\n",
    "        else:\n",
    "                print(\"invalid\")\n",
    "                "
   ]
  }
 ],
 "metadata": {
  "kernelspec": {
   "display_name": ".venv",
   "language": "python",
   "name": "python3"
  },
  "language_info": {
   "codemirror_mode": {
    "name": "ipython",
    "version": 3
   },
   "file_extension": ".py",
   "mimetype": "text/x-python",
   "name": "python",
   "nbconvert_exporter": "python",
   "pygments_lexer": "ipython3",
   "version": "3.12.10"
  }
 },
 "nbformat": 4,
 "nbformat_minor": 5
}
