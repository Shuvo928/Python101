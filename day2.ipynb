{
 "cells": [
  {
   "cell_type": "code",
   "execution_count": 1,
   "id": "26c96319",
   "metadata": {},
   "outputs": [
    {
     "name": "stdout",
     "output_type": "stream",
     "text": [
      "helloshuvo\n"
     ]
    }
   ],
   "source": [
    "def classs():\n",
    "    \"\"\" this function take the name as input and great his/her.  \"\"\"\n",
    "    name= input(\"Enter name:\")\n",
    "    print(\"hello\" +name)\n",
    "classs()\n",
    "    "
   ]
  },
  {
   "cell_type": "code",
   "execution_count": null,
   "id": "59de932b",
   "metadata": {},
   "outputs": [],
   "source": []
  },
  {
   "cell_type": "code",
   "execution_count": 3,
   "id": "7a0adba0",
   "metadata": {},
   "outputs": [
    {
     "name": "stdout",
     "output_type": "stream",
     "text": [
      "jaul\n"
     ]
    }
   ],
   "source": [
    "def user_input():\n",
    "    name= input(\"enter user age:\")\n",
    "    print(name)\n",
    "user_input()"
   ]
  },
  {
   "cell_type": "code",
   "execution_count": 7,
   "id": "1b97f6af",
   "metadata": {},
   "outputs": [
    {
     "name": "stdout",
     "output_type": "stream",
     "text": [
      "9\n"
     ]
    },
    {
     "data": {
      "text/plain": [
       "'bolt'"
      ]
     },
     "execution_count": 7,
     "metadata": {},
     "output_type": "execute_result"
    }
   ],
   "source": [
    "def game(x,y):\n",
    "    \n",
    "    name= x+y\n",
    "    print(name)\n",
    "    return \"bolt\"\n",
    "game(4,5)"
   ]
  },
  {
   "cell_type": "code",
   "execution_count": 4,
   "id": "d84dc7bf",
   "metadata": {},
   "outputs": [],
   "source": [
    "##this is sentance\n",
    "##hi\n"
   ]
  }
 ],
 "metadata": {
  "kernelspec": {
   "display_name": ".venv",
   "language": "python",
   "name": "python3"
  },
  "language_info": {
   "codemirror_mode": {
    "name": "ipython",
    "version": 3
   },
   "file_extension": ".py",
   "mimetype": "text/x-python",
   "name": "python",
   "nbconvert_exporter": "python",
   "pygments_lexer": "ipython3",
   "version": "3.12.10"
  }
 },
 "nbformat": 4,
 "nbformat_minor": 5
}
