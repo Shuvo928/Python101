{
 "cells": [
  {
   "cell_type": "code",
   "execution_count": 7,
   "id": "068d7624",
   "metadata": {},
   "outputs": [
    {
     "name": "stdout",
     "output_type": "stream",
     "text": [
      "1 4 5 6 8 5\n",
      "1 3 4 5 6 6 4\n",
      "4\n",
      "5\n",
      "3\n",
      "5\n",
      "6\n",
      "9\n"
     ]
    }
   ],
   "source": [
    "print(1,4,5,6,8,5, )\n",
    "print(1,3,4,5,6,6,4, sep=\" \")\n",
    "print(4,5,3,5,6,9, sep= '\\n')"
   ]
  },
  {
   "cell_type": "code",
   "execution_count": 10,
   "id": "1cb0af28",
   "metadata": {},
   "outputs": [
    {
     "name": "stdout",
     "output_type": "stream",
     "text": [
      "s\n",
      "h\n",
      "u\n",
      "v\n",
      "o\n"
     ]
    }
   ],
   "source": [
    "string= input(\" enter name:\")\n",
    "print(*list(string),sep='\\n')"
   ]
  },
  {
   "cell_type": "code",
   "execution_count": 13,
   "id": "73a962db",
   "metadata": {},
   "outputs": [
    {
     "name": "stdout",
     "output_type": "stream",
     "text": [
      "kaya 7\n"
     ]
    }
   ],
   "source": [
    "a,b = 7,\"kaya\"\n",
    "a,b = b,a\n",
    "print(a,b)"
   ]
  },
  {
   "cell_type": "code",
   "execution_count": 19,
   "id": "c66c374f",
   "metadata": {},
   "outputs": [
    {
     "name": "stdout",
     "output_type": "stream",
     "text": [
      "Addition is30\n",
      "subtraction is20\n",
      "division is 5\n"
     ]
    }
   ],
   "source": [
    "x, y= 25,5\n",
    "print(f\"Addition is{x+y}\")\n",
    "print(f\"subtraction is{x-y}\")\n",
    "print(f\"division is {x//y}\")"
   ]
  },
  {
   "cell_type": "code",
   "execution_count": 1,
   "id": "7da0eecd",
   "metadata": {},
   "outputs": [
    {
     "name": "stdout",
     "output_type": "stream",
     "text": [
      "NCP bank\n"
     ]
    }
   ],
   "source": [
    "def bank():\n",
    "    name= input(\"enter bank name:\")\n",
    "    print(name)\n",
    "bank()"
   ]
  },
  {
   "cell_type": "markdown",
   "id": "0dc310f1",
   "metadata": {},
   "source": [
    "#kamals\n",
    "\n"
   ]
  },
  {
   "cell_type": "markdown",
   "id": "13c98c5b",
   "metadata": {},
   "source": [
    "##kamal"
   ]
  },
  {
   "cell_type": "markdown",
   "id": "ea700248",
   "metadata": {},
   "source": []
  },
  {
   "cell_type": "code",
   "execution_count": 6,
   "id": "89530abb",
   "metadata": {},
   "outputs": [],
   "source": [
    "def add_numbers(a=20, b=10):\n",
    "  \n",
    "    print( a + b)\n",
    "    "
   ]
  },
  {
   "cell_type": "code",
   "execution_count": 8,
   "id": "696b43c4",
   "metadata": {},
   "outputs": [
    {
     "name": "stdout",
     "output_type": "stream",
     "text": [
      "9\n"
     ]
    }
   ],
   "source": [
    "a=3\n",
    "b=6\n",
    "print(a+b)"
   ]
  },
  {
   "cell_type": "code",
   "execution_count": 10,
   "id": "4e3b5f1c",
   "metadata": {},
   "outputs": [
    {
     "name": "stdout",
     "output_type": "stream",
     "text": [
      "11\n"
     ]
    }
   ],
   "source": [
    "def addition(x,y):\n",
    "    result= x+y\n",
    "    print(result)\n",
    "addition(5,6)"
   ]
  },
  {
   "cell_type": "code",
   "execution_count": 13,
   "id": "8465169f",
   "metadata": {},
   "outputs": [
    {
     "name": "stdout",
     "output_type": "stream",
     "text": [
      "3.141592653589793\n"
     ]
    }
   ],
   "source": [
    "from math import pi \n",
    "print(pi)\n"
   ]
  },
  {
   "cell_type": "code",
   "execution_count": 12,
   "id": "920eaaff",
   "metadata": {},
   "outputs": [
    {
     "name": "stdout",
     "output_type": "stream",
     "text": [
      "1.2246467991473532e-16\n"
     ]
    }
   ],
   "source": [
    "from math import sin, pi\n",
    "print(sin(pi))"
   ]
  },
  {
   "cell_type": "code",
   "execution_count": 26,
   "id": "d3f3528a",
   "metadata": {},
   "outputs": [
    {
     "name": "stdout",
     "output_type": "stream",
     "text": [
      "groupA [17, 14, 18, 3, 4]\n",
      "groupB [6, 5, 9, 15]\n",
      "groupC [11, 10, 1, 19]\n"
     ]
    }
   ],
   "source": [
    "import random\n",
    "group= list(range(1,21))\n",
    "random.shuffle(group)\n",
    "\n",
    "groupA= group[1:6]\n",
    "groupB= group[6:10]\n",
    "groupC= group[10:16]\n",
    "groupC= group[16:21]\n",
    "print(\"groupA\",groupA)\n",
    "print(\"groupB\",groupB)\n",
    "print(\"groupC\",groupC)\n"
   ]
  },
  {
   "cell_type": "code",
   "execution_count": 19,
   "id": "cd0eef33",
   "metadata": {},
   "outputs": [
    {
     "name": "stdout",
     "output_type": "stream",
     "text": [
      "1\n"
     ]
    }
   ],
   "source": [
    "from random import randint\n",
    "print(randint(1,3))"
   ]
  }
 ],
 "metadata": {
  "kernelspec": {
   "display_name": ".venv",
   "language": "python",
   "name": "python3"
  },
  "language_info": {
   "codemirror_mode": {
    "name": "ipython",
    "version": 3
   },
   "file_extension": ".py",
   "mimetype": "text/x-python",
   "name": "python",
   "nbconvert_exporter": "python",
   "pygments_lexer": "ipython3",
   "version": "3.12.10"
  }
 },
 "nbformat": 4,
 "nbformat_minor": 5
}
