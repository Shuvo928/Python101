{
 "cells": [
  {
   "cell_type": "code",
   "execution_count": 1,
   "id": "57c36bc7",
   "metadata": {},
   "outputs": [
    {
     "data": {
      "text/plain": [
       "[6, 8, 10, 12, 14]"
      ]
     },
     "execution_count": 1,
     "metadata": {},
     "output_type": "execute_result"
    }
   ],
   "source": [
    "[x+5 for x in range(10)if x%2==1]"
   ]
  },
  {
   "cell_type": "code",
   "execution_count": 2,
   "id": "b6207fa2",
   "metadata": {},
   "outputs": [
    {
     "data": {
      "text/plain": [
       "[6, 8, 10, 12, 14]"
      ]
     },
     "execution_count": 2,
     "metadata": {},
     "output_type": "execute_result"
    }
   ],
   "source": [
    "lst=[]\n",
    "for x in range(10):\n",
    "    if x%2!=0:\n",
    "        lst.append(x+5)\n",
    "lst"
   ]
  },
  {
   "cell_type": "code",
   "execution_count": 3,
   "id": "7f81992a",
   "metadata": {},
   "outputs": [
    {
     "data": {
      "text/plain": [
       "[6, 8, 10, 12, 14]"
      ]
     },
     "execution_count": 3,
     "metadata": {},
     "output_type": "execute_result"
    }
   ],
   "source": [
    "[x+5 for x in range(1,11,2)]"
   ]
  },
  {
   "cell_type": "code",
   "execution_count": 5,
   "id": "e8e82418",
   "metadata": {},
   "outputs": [
    {
     "data": {
      "text/plain": [
       "[50, 100, 'No power-UP', 200, 'No power-UP', 150]"
      ]
     },
     "execution_count": 5,
     "metadata": {},
     "output_type": "execute_result"
    }
   ],
   "source": [
    "lst =[50, 100, 0, 200, 0, 150]\n",
    "lst[2]= \"No power-UP\"\n",
    "lst[4]= \"No power-UP\"\n",
    "lst"
   ]
  },
  {
   "cell_type": "code",
   "execution_count": 8,
   "id": "9d62d9c1",
   "metadata": {},
   "outputs": [
    {
     "name": "stdout",
     "output_type": "stream",
     "text": [
      "[50, 'no power up', 100, 'no power up', 200, 150]\n"
     ]
    }
   ],
   "source": [
    "lst=[50,0,100,0,200,150]\n",
    "lst1=[]\n",
    "for i in lst:\n",
    "    if i==0:\n",
    "        lst1.append(\"no power up\")\n",
    "    else:\n",
    "        lst1.append(i)\n",
    "print(lst1)"
   ]
  },
  {
   "cell_type": "code",
   "execution_count": 9,
   "id": "bd0b4194",
   "metadata": {},
   "outputs": [
    {
     "data": {
      "text/plain": [
       "[50, 'no power up', 100, 'no power up', 200, 150]"
      ]
     },
     "execution_count": 9,
     "metadata": {},
     "output_type": "execute_result"
    }
   ],
   "source": [
    "[\"no power up\" if x==0 else x for x in lst]"
   ]
  },
  {
   "cell_type": "code",
   "execution_count": null,
   "id": "e5074e4a",
   "metadata": {},
   "outputs": [],
   "source": [
    "import emoji\n",
    "message=[]\n"
   ]
  },
  {
   "cell_type": "code",
   "execution_count": 2,
   "id": "2a309907",
   "metadata": {},
   "outputs": [
    {
     "name": "stdout",
     "output_type": "stream",
     "text": [
      "{'holiday', 'this', 'we', 'holyday', '10', 'get', 'starting', 'days', 'year', 'today', 'is', 'Eid'}\n",
      "12\n"
     ]
    }
   ],
   "source": [
    "text= \"Eid holyday is starting today this year we get 10 days holiday\"\n",
    "word= text.split()\n",
    "unique= set(word)\n",
    "print(unique)\n",
    "print(len(unique))"
   ]
  },
  {
   "cell_type": "code",
   "execution_count": 3,
   "id": "3d0ecc80",
   "metadata": {},
   "outputs": [
    {
     "name": "stdout",
     "output_type": "stream",
     "text": [
      "{1, 2, 3, 5, 7, 8}\n"
     ]
    }
   ],
   "source": [
    "set1= {1,2,3,3,5,5,7,8,8}\n",
    "print(set1)"
   ]
  },
  {
   "cell_type": "code",
   "execution_count": 17,
   "id": "a2087817",
   "metadata": {},
   "outputs": [
    {
     "name": "stdout",
     "output_type": "stream",
     "text": [
      "{1, 2, 3, 5, 7, 8, 9}\n"
     ]
    }
   ],
   "source": [
    "set6= set1.add(9)\n",
    "print(set1)\n"
   ]
  },
  {
   "cell_type": "code",
   "execution_count": 18,
   "id": "61995e3c",
   "metadata": {},
   "outputs": [
    {
     "name": "stdout",
     "output_type": "stream",
     "text": [
      "{1, 2, 3, 7, 8, 9}\n"
     ]
    }
   ],
   "source": [
    "setr= set1.remove(5)\n",
    "print(set1)"
   ]
  },
  {
   "cell_type": "code",
   "execution_count": 14,
   "id": "ca1b22c2",
   "metadata": {},
   "outputs": [
    {
     "name": "stdout",
     "output_type": "stream",
     "text": [
      "{'A network, in general, refers to two or more devices (like computers, phones, etc', ' ', ' Specifically, a computer network allows computers to communicate, share data, and access shared resources like printers or files', ') connected together to share information and resources'}\n",
      "['A network, in general, refers to two or more devices (like computers, phones, etc', ') connected together to share information and resources', ' Specifically, a computer network allows computers to communicate, share data, and access shared resources like printers or files', ' ']\n"
     ]
    }
   ],
   "source": [
    "set2= \"A network, in general, refers to two or more devices (like computers, phones, etc.) connected together to share information and resources. Specifically, a computer network allows computers to communicate, share data, and access shared resources like printers or files. \"\n",
    "word = set2.split(\".\")\n",
    "uniq= set(word)\n",
    "print(uniq)\n",
    "print(word)"
   ]
  },
  {
   "cell_type": "code",
   "execution_count": null,
   "id": "06d91103",
   "metadata": {},
   "outputs": [],
   "source": [
    "a=7\n",
    "print(a)\n"
   ]
  },
  {
   "cell_type": "code",
   "execution_count": null,
   "id": "77fd1b0d",
   "metadata": {},
   "outputs": [],
   "source": []
  },
  {
   "cell_type": "code",
   "execution_count": null,
   "id": "db567f66",
   "metadata": {},
   "outputs": [],
   "source": []
  }
 ],
 "metadata": {
  "kernelspec": {
   "display_name": ".venv",
   "language": "python",
   "name": "python3"
  },
  "language_info": {
   "codemirror_mode": {
    "name": "ipython",
    "version": 3
   },
   "file_extension": ".py",
   "mimetype": "text/x-python",
   "name": "python",
   "nbconvert_exporter": "python",
   "pygments_lexer": "ipython3",
   "version": "3.12.10"
  }
 },
 "nbformat": 4,
 "nbformat_minor": 5
}
