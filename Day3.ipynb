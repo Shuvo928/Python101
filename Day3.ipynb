{
 "cells": [
  {
   "cell_type": "code",
   "execution_count": 1,
   "id": "57c36bc7",
   "metadata": {},
   "outputs": [
    {
     "data": {
      "text/plain": [
       "[6, 8, 10, 12, 14]"
      ]
     },
     "execution_count": 1,
     "metadata": {},
     "output_type": "execute_result"
    }
   ],
   "source": [
    "[x+5 for x in range(10)if x%2==1]"
   ]
  },
  {
   "cell_type": "code",
   "execution_count": 2,
   "id": "b6207fa2",
   "metadata": {},
   "outputs": [
    {
     "data": {
      "text/plain": [
       "[6, 8, 10, 12, 14]"
      ]
     },
     "execution_count": 2,
     "metadata": {},
     "output_type": "execute_result"
    }
   ],
   "source": [
    "lst=[]\n",
    "for x in range(10):\n",
    "    if x%2!=0:\n",
    "        lst.append(x+5)\n",
    "lst"
   ]
  },
  {
   "cell_type": "code",
   "execution_count": 3,
   "id": "7f81992a",
   "metadata": {},
   "outputs": [
    {
     "data": {
      "text/plain": [
       "[6, 8, 10, 12, 14]"
      ]
     },
     "execution_count": 3,
     "metadata": {},
     "output_type": "execute_result"
    }
   ],
   "source": [
    "[x+5 for x in range(1,11,2)]"
   ]
  },
  {
   "cell_type": "code",
   "execution_count": 5,
   "id": "e8e82418",
   "metadata": {},
   "outputs": [
    {
     "data": {
      "text/plain": [
       "[50, 100, 'No power-UP', 200, 'No power-UP', 150]"
      ]
     },
     "execution_count": 5,
     "metadata": {},
     "output_type": "execute_result"
    }
   ],
   "source": [
    "lst =[50, 100, 0, 200, 0, 150]\n",
    "lst[2]= \"No power-UP\"\n",
    "lst[4]= \"No power-UP\"\n",
    "lst"
   ]
  },
  {
   "cell_type": "code",
   "execution_count": 8,
   "id": "9d62d9c1",
   "metadata": {},
   "outputs": [
    {
     "name": "stdout",
     "output_type": "stream",
     "text": [
      "[50, 'no power up', 100, 'no power up', 200, 150]\n"
     ]
    }
   ],
   "source": [
    "lst=[50,0,100,0,200,150]\n",
    "lst1=[]\n",
    "for i in lst:\n",
    "    if i==0:\n",
    "        lst1.append(\"no power up\")\n",
    "    else:\n",
    "        lst1.append(i)\n",
    "print(lst1)"
   ]
  },
  {
   "cell_type": "code",
   "execution_count": 9,
   "id": "bd0b4194",
   "metadata": {},
   "outputs": [
    {
     "data": {
      "text/plain": [
       "[50, 'no power up', 100, 'no power up', 200, 150]"
      ]
     },
     "execution_count": 9,
     "metadata": {},
     "output_type": "execute_result"
    }
   ],
   "source": [
    "[\"no power up\" if x==0 else x for x in lst]"
   ]
  },
  {
   "cell_type": "code",
   "execution_count": null,
   "id": "e5074e4a",
   "metadata": {},
   "outputs": [],
   "source": [
    "import emoji\n",
    "message=[]\n"
   ]
  }
 ],
 "metadata": {
  "kernelspec": {
   "display_name": ".venv",
   "language": "python",
   "name": "python3"
  },
  "language_info": {
   "codemirror_mode": {
    "name": "ipython",
    "version": 3
   },
   "file_extension": ".py",
   "mimetype": "text/x-python",
   "name": "python",
   "nbconvert_exporter": "python",
   "pygments_lexer": "ipython3",
   "version": "3.12.10"
  }
 },
 "nbformat": 4,
 "nbformat_minor": 5
}
